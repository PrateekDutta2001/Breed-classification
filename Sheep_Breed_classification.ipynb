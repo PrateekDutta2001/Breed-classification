{
  "nbformat": 4,
  "nbformat_minor": 0,
  "metadata": {
    "colab": {
      "name": "Sheep Breed classification.ipynb",
      "provenance": []
    },
    "kernelspec": {
      "name": "python3",
      "display_name": "Python 3"
    }
  },
  "cells": [
    {
      "cell_type": "code",
      "metadata": {
        "colab": {
          "base_uri": "https://localhost:8080/"
        },
        "id": "cVorBlH8MwSN",
        "outputId": "844ecf28-6720-4ab1-d391-c72c3af25913"
      },
      "source": [
        "from google.colab import drive\n",
        "drive.mount('/gdrive')\n",
        "%cd /gdrive"
      ],
      "execution_count": null,
      "outputs": [
        {
          "output_type": "stream",
          "text": [
            "Drive already mounted at /gdrive; to attempt to forcibly remount, call drive.mount(\"/gdrive\", force_remount=True).\n",
            "/gdrive\n"
          ],
          "name": "stdout"
        }
      ]
    },
    {
      "cell_type": "code",
      "metadata": {
        "colab": {
          "base_uri": "https://localhost:8080/"
        },
        "id": "EVvT2EZZR0DS",
        "outputId": "49b85e4a-2d09-40af-d59c-a00f11e385f8"
      },
      "source": [
        "ls"
      ],
      "execution_count": null,
      "outputs": [
        {
          "output_type": "stream",
          "text": [
            "\u001b[0m\u001b[01;34mMyDrive\u001b[0m/  \u001b[01;34mShareddrives\u001b[0m/\n"
          ],
          "name": "stdout"
        }
      ]
    },
    {
      "cell_type": "code",
      "metadata": {
        "colab": {
          "base_uri": "https://localhost:8080/"
        },
        "id": "rUfpK5boR7Om",
        "outputId": "0e35f27e-df4b-44ee-d97d-a35813e0b148"
      },
      "source": [
        "cd /gdrive/My Drive/Breed Classification"
      ],
      "execution_count": null,
      "outputs": [
        {
          "output_type": "stream",
          "text": [
            "/gdrive/My Drive/Breed Classification\n"
          ],
          "name": "stdout"
        }
      ]
    },
    {
      "cell_type": "code",
      "metadata": {
        "colab": {
          "base_uri": "https://localhost:8080/"
        },
        "id": "qluo6MKgSKJz",
        "outputId": "72607872-83ce-4494-d4f2-884ef4907595"
      },
      "source": [
        "ls"
      ],
      "execution_count": null,
      "outputs": [
        {
          "output_type": "stream",
          "text": [
            "\u001b[0m\u001b[01;34mSheepFaceImages\u001b[0m/\n"
          ],
          "name": "stdout"
        }
      ]
    },
    {
      "cell_type": "code",
      "metadata": {
        "colab": {
          "base_uri": "https://localhost:8080/"
        },
        "id": "FNIsHl_zSUDM",
        "outputId": "d521b1c0-39e9-4a24-80d4-362cd4904217"
      },
      "source": [
        "cd /gdrive/My Drive/Breed Classification/SheepFaceImages"
      ],
      "execution_count": null,
      "outputs": [
        {
          "output_type": "stream",
          "text": [
            "/gdrive/My Drive/Breed Classification/SheepFaceImages\n"
          ],
          "name": "stdout"
        }
      ]
    },
    {
      "cell_type": "code",
      "metadata": {
        "colab": {
          "base_uri": "https://localhost:8080/"
        },
        "id": "Maewqiw7Sc4L",
        "outputId": "14665ae3-039e-43ad-bc5c-667fe551bb58"
      },
      "source": [
        "ls"
      ],
      "execution_count": null,
      "outputs": [
        {
          "output_type": "stream",
          "text": [
            " \u001b[0m\u001b[01;34mMarino\u001b[0m/  \u001b[01;34m'Poll Dorset'\u001b[0m/   \u001b[01;34mSuffolk\u001b[0m/  \u001b[01;34m'White Suffolk'\u001b[0m/\n"
          ],
          "name": "stdout"
        }
      ]
    },
    {
      "cell_type": "code",
      "metadata": {
        "id": "0_gZ4z_yShC9"
      },
      "source": [
        "import os\n",
        "\n",
        "import pandas as pd\n",
        "import numpy as np\n",
        "import matplotlib.pyplot as plt\n",
        "\n",
        "\n",
        "from skimage import io\n",
        "from skimage.color import rgb2gray\n",
        "from skimage.transform import rescale, resize, downscale_local_mean\n",
        "from skimage import morphology\n",
        "\n",
        "\n",
        "from sklearn.preprocessing import LabelEncoder\n",
        "from sklearn.model_selection import train_test_split\n",
        "from sklearn.metrics import accuracy_score\n",
        "\n",
        "\n",
        "from keras.models import Sequential\n",
        "from keras.layers import Dense, Conv2D, Flatten, Dropout\n",
        "from keras.utils import to_categorical"
      ],
      "execution_count": null,
      "outputs": []
    },
    {
      "cell_type": "code",
      "metadata": {
        "id": "ibppNv2-d8X4"
      },
      "source": [
        "Marino = \"/gdrive/My Drive/Breed Classification/SheepFaceImages/Marino/\"\n",
        "WhiteSuffolk = \"/gdrive/My Drive/Breed Classification/SheepFaceImages/White Suffolk\"\n",
        "PollDorset = \"/gdrive/My Drive/Breed Classification/SheepFaceImages/Poll Dorset\"\n",
        "Suffolk = \"/gdrive/My Drive/Breed Classification/SheepFaceImages/Suffolk\""
      ],
      "execution_count": null,
      "outputs": []
    },
    {
      "cell_type": "code",
      "metadata": {
        "colab": {
          "base_uri": "https://localhost:8080/"
        },
        "id": "iGZEc7GCe0V_",
        "outputId": "b16ec95a-5dae-406c-ce32-6577a9a583f0"
      },
      "source": [
        "ls"
      ],
      "execution_count": null,
      "outputs": [
        {
          "output_type": "stream",
          "text": [
            " \u001b[0m\u001b[01;34mMarino\u001b[0m/  \u001b[01;34m'Poll Dorset'\u001b[0m/   \u001b[01;34mSuffolk\u001b[0m/  \u001b[01;34m'White Suffolk'\u001b[0m/\n"
          ],
          "name": "stdout"
        }
      ]
    },
    {
      "cell_type": "code",
      "metadata": {
        "id": "kIGYiENdfsr-"
      },
      "source": [
        "import os\n",
        "for dirname, _, filenames in os.walk('/kaggle/input'):\n",
        "    for filename in filenames:\n",
        "        print(os.path.join(dirname, filename))"
      ],
      "execution_count": null,
      "outputs": []
    },
    {
      "cell_type": "code",
      "metadata": {
        "colab": {
          "base_uri": "https://localhost:8080/"
        },
        "id": "1Xm39WIcfVSg",
        "outputId": "d1bcc5f8-7c24-4725-b0ed-332b307628cb"
      },
      "source": [
        "os.listdir(\"/gdrive/My Drive/Breed Classification/SheepFaceImages\")"
      ],
      "execution_count": null,
      "outputs": [
        {
          "output_type": "execute_result",
          "data": {
            "text/plain": [
              "['White Suffolk', 'Marino', 'Suffolk', 'Poll Dorset']"
            ]
          },
          "metadata": {
            "tags": []
          },
          "execution_count": 47
        }
      ]
    },
    {
      "cell_type": "code",
      "metadata": {
        "id": "kWX1UOBiKWAq"
      },
      "source": [
        "from tqdm import tqdm \n",
        "x = []\n",
        "y = []\n",
        "\n",
        "def create_dataset(dirname,breedname):\n",
        "    for i in tqdm(os.listdir(dirname)):\n",
        "        path = os.path.join(dirname,i)\n",
        "        try:\n",
        "            img = cv2.imread(path)\n",
        "            img = cv2.resize(img,(150,150))\n",
        "        except:\n",
        "            continue\n",
        "            \n",
        "        x.append(img)\n",
        "        y.append(breedname)\n",
        "    return x,y"
      ],
      "execution_count": null,
      "outputs": []
    },
    {
      "cell_type": "code",
      "metadata": {
        "colab": {
          "base_uri": "https://localhost:8080/"
        },
        "id": "_bIslu6LV87D",
        "outputId": "5938c4e4-847a-4268-d2c7-7d8ba251eefd"
      },
      "source": [
        "x,y = create_dataset(Marino,\"Marino\")\n",
        "x,y = create_dataset(WhiteSuffolk,\"White Suffolk\")\n",
        "x,y = create_dataset(PollDorset,\"Poll Dorset\")\n",
        "x,y = create_dataset(Suffolk,\"Suffolk\")"
      ],
      "execution_count": null,
      "outputs": [
        {
          "output_type": "stream",
          "text": [
            "100%|██████████| 420/420 [00:00<00:00, 202856.71it/s]\n",
            "100%|██████████| 420/420 [00:00<00:00, 208055.71it/s]\n",
            "100%|██████████| 420/420 [00:00<00:00, 138241.21it/s]\n",
            "100%|██████████| 420/420 [00:00<00:00, 92521.41it/s]\n"
          ],
          "name": "stderr"
        }
      ]
    },
    {
      "cell_type": "code",
      "metadata": {
        "colab": {
          "base_uri": "https://localhost:8080/"
        },
        "id": "FAuAIYQXMeoQ",
        "outputId": "7eb06e61-33c9-48fa-8347-cffe158c1462"
      },
      "source": [
        "\n",
        "BASE_PATH = '/gdrive/My Drive/Breed Classification/SheepFaceImages/'\n",
        "\n",
        "sheep_data = {}\n",
        "\n",
        "image_filename_index = 0\n",
        "\n",
        "for sheep_bread in os.listdir(BASE_PATH):\n",
        "    print(sheep_bread)\n",
        "    BREAD_PATH = BASE_PATH + '/' + sheep_bread\n",
        "    for image_filename in os.listdir(BREAD_PATH):\n",
        "        image_path = BREAD_PATH + '/' + image_filename\n",
        "        #read the image\n",
        "        sheep = io.imread(image_path)\n",
        "        # convert to grayscale\n",
        "        sheep = rgb2gray(sheep)\n",
        "        # resize\n",
        "        sheep = resize(sheep, (90,78), anti_aliasing=False)\n",
        "        # reshape\n",
        "        sheep = sheep.reshape(sheep.shape[0] * sheep.shape[1])\n",
        "        sheep = np.append(sheep, str(sheep_bread))\n",
        "        sheep_data[image_filename_index] = sheep\n",
        "        image_filename_index = image_filename_index + 1\n",
        "\n",
        "column_names = ['pixel_' + str(i) for i in range(0,7020)]\n",
        "column_names = np.append(column_names, 'bread')\n",
        "df = pd.DataFrame.from_dict(sheep_data, orient='index', columns=column_names)\n",
        "df.to_csv('Sheep_bread_dataset.csv', index=None)"
      ],
      "execution_count": null,
      "outputs": [
        {
          "output_type": "stream",
          "text": [
            "White Suffolk\n",
            "Marino\n",
            "Suffolk\n",
            "Poll Dorset\n"
          ],
          "name": "stdout"
        }
      ]
    },
    {
      "cell_type": "code",
      "metadata": {
        "colab": {
          "base_uri": "https://localhost:8080/",
          "height": 328
        },
        "id": "JNFK6N5UQpfX",
        "outputId": "f35e2406-2cad-498a-a754-9a0393090c3a"
      },
      "source": [
        "df = pd.read_csv('Sheep_bread_dataset.csv')\n",
        "df.head()"
      ],
      "execution_count": null,
      "outputs": [
        {
          "output_type": "execute_result",
          "data": {
            "text/html": [
              "<div>\n",
              "<style scoped>\n",
              "    .dataframe tbody tr th:only-of-type {\n",
              "        vertical-align: middle;\n",
              "    }\n",
              "\n",
              "    .dataframe tbody tr th {\n",
              "        vertical-align: top;\n",
              "    }\n",
              "\n",
              "    .dataframe thead th {\n",
              "        text-align: right;\n",
              "    }\n",
              "</style>\n",
              "<table border=\"1\" class=\"dataframe\">\n",
              "  <thead>\n",
              "    <tr style=\"text-align: right;\">\n",
              "      <th></th>\n",
              "      <th>pixel_0</th>\n",
              "      <th>pixel_1</th>\n",
              "      <th>pixel_2</th>\n",
              "      <th>pixel_3</th>\n",
              "      <th>pixel_4</th>\n",
              "      <th>pixel_5</th>\n",
              "      <th>pixel_6</th>\n",
              "      <th>pixel_7</th>\n",
              "      <th>pixel_8</th>\n",
              "      <th>pixel_9</th>\n",
              "      <th>pixel_10</th>\n",
              "      <th>pixel_11</th>\n",
              "      <th>pixel_12</th>\n",
              "      <th>pixel_13</th>\n",
              "      <th>pixel_14</th>\n",
              "      <th>pixel_15</th>\n",
              "      <th>pixel_16</th>\n",
              "      <th>pixel_17</th>\n",
              "      <th>pixel_18</th>\n",
              "      <th>pixel_19</th>\n",
              "      <th>pixel_20</th>\n",
              "      <th>pixel_21</th>\n",
              "      <th>pixel_22</th>\n",
              "      <th>pixel_23</th>\n",
              "      <th>pixel_24</th>\n",
              "      <th>pixel_25</th>\n",
              "      <th>pixel_26</th>\n",
              "      <th>pixel_27</th>\n",
              "      <th>pixel_28</th>\n",
              "      <th>pixel_29</th>\n",
              "      <th>pixel_30</th>\n",
              "      <th>pixel_31</th>\n",
              "      <th>pixel_32</th>\n",
              "      <th>pixel_33</th>\n",
              "      <th>pixel_34</th>\n",
              "      <th>pixel_35</th>\n",
              "      <th>pixel_36</th>\n",
              "      <th>pixel_37</th>\n",
              "      <th>pixel_38</th>\n",
              "      <th>pixel_39</th>\n",
              "      <th>...</th>\n",
              "      <th>pixel_6981</th>\n",
              "      <th>pixel_6982</th>\n",
              "      <th>pixel_6983</th>\n",
              "      <th>pixel_6984</th>\n",
              "      <th>pixel_6985</th>\n",
              "      <th>pixel_6986</th>\n",
              "      <th>pixel_6987</th>\n",
              "      <th>pixel_6988</th>\n",
              "      <th>pixel_6989</th>\n",
              "      <th>pixel_6990</th>\n",
              "      <th>pixel_6991</th>\n",
              "      <th>pixel_6992</th>\n",
              "      <th>pixel_6993</th>\n",
              "      <th>pixel_6994</th>\n",
              "      <th>pixel_6995</th>\n",
              "      <th>pixel_6996</th>\n",
              "      <th>pixel_6997</th>\n",
              "      <th>pixel_6998</th>\n",
              "      <th>pixel_6999</th>\n",
              "      <th>pixel_7000</th>\n",
              "      <th>pixel_7001</th>\n",
              "      <th>pixel_7002</th>\n",
              "      <th>pixel_7003</th>\n",
              "      <th>pixel_7004</th>\n",
              "      <th>pixel_7005</th>\n",
              "      <th>pixel_7006</th>\n",
              "      <th>pixel_7007</th>\n",
              "      <th>pixel_7008</th>\n",
              "      <th>pixel_7009</th>\n",
              "      <th>pixel_7010</th>\n",
              "      <th>pixel_7011</th>\n",
              "      <th>pixel_7012</th>\n",
              "      <th>pixel_7013</th>\n",
              "      <th>pixel_7014</th>\n",
              "      <th>pixel_7015</th>\n",
              "      <th>pixel_7016</th>\n",
              "      <th>pixel_7017</th>\n",
              "      <th>pixel_7018</th>\n",
              "      <th>pixel_7019</th>\n",
              "      <th>bread</th>\n",
              "    </tr>\n",
              "  </thead>\n",
              "  <tbody>\n",
              "    <tr>\n",
              "      <th>0</th>\n",
              "      <td>0.535896</td>\n",
              "      <td>0.735112</td>\n",
              "      <td>0.596092</td>\n",
              "      <td>0.715351</td>\n",
              "      <td>0.715874</td>\n",
              "      <td>0.807682</td>\n",
              "      <td>0.770199</td>\n",
              "      <td>0.787922</td>\n",
              "      <td>0.663553</td>\n",
              "      <td>0.718444</td>\n",
              "      <td>0.728510</td>\n",
              "      <td>0.748455</td>\n",
              "      <td>0.739403</td>\n",
              "      <td>0.667627</td>\n",
              "      <td>0.627551</td>\n",
              "      <td>0.599327</td>\n",
              "      <td>0.643348</td>\n",
              "      <td>0.630809</td>\n",
              "      <td>0.629887</td>\n",
              "      <td>0.624375</td>\n",
              "      <td>0.616802</td>\n",
              "      <td>0.678042</td>\n",
              "      <td>0.694066</td>\n",
              "      <td>0.719306</td>\n",
              "      <td>0.709292</td>\n",
              "      <td>0.731343</td>\n",
              "      <td>0.732893</td>\n",
              "      <td>0.712976</td>\n",
              "      <td>0.679483</td>\n",
              "      <td>0.651274</td>\n",
              "      <td>0.596216</td>\n",
              "      <td>0.653288</td>\n",
              "      <td>0.695153</td>\n",
              "      <td>0.679461</td>\n",
              "      <td>0.612222</td>\n",
              "      <td>0.413656</td>\n",
              "      <td>0.417541</td>\n",
              "      <td>0.446761</td>\n",
              "      <td>0.622284</td>\n",
              "      <td>0.655431</td>\n",
              "      <td>...</td>\n",
              "      <td>0.103065</td>\n",
              "      <td>0.119948</td>\n",
              "      <td>0.124053</td>\n",
              "      <td>0.119989</td>\n",
              "      <td>0.105199</td>\n",
              "      <td>0.118388</td>\n",
              "      <td>0.186788</td>\n",
              "      <td>0.148008</td>\n",
              "      <td>0.171106</td>\n",
              "      <td>0.245553</td>\n",
              "      <td>0.270931</td>\n",
              "      <td>0.105258</td>\n",
              "      <td>0.131489</td>\n",
              "      <td>0.126402</td>\n",
              "      <td>0.120498</td>\n",
              "      <td>0.114616</td>\n",
              "      <td>0.136163</td>\n",
              "      <td>0.135126</td>\n",
              "      <td>0.189015</td>\n",
              "      <td>0.163547</td>\n",
              "      <td>0.137152</td>\n",
              "      <td>0.152795</td>\n",
              "      <td>0.142948</td>\n",
              "      <td>0.135061</td>\n",
              "      <td>0.116401</td>\n",
              "      <td>0.138360</td>\n",
              "      <td>0.118698</td>\n",
              "      <td>0.126417</td>\n",
              "      <td>0.132708</td>\n",
              "      <td>0.142523</td>\n",
              "      <td>0.142963</td>\n",
              "      <td>0.140325</td>\n",
              "      <td>0.137094</td>\n",
              "      <td>0.141282</td>\n",
              "      <td>0.138352</td>\n",
              "      <td>0.135821</td>\n",
              "      <td>0.159751</td>\n",
              "      <td>0.164631</td>\n",
              "      <td>0.165047</td>\n",
              "      <td>White Suffolk</td>\n",
              "    </tr>\n",
              "    <tr>\n",
              "      <th>1</th>\n",
              "      <td>0.570300</td>\n",
              "      <td>0.476585</td>\n",
              "      <td>0.605670</td>\n",
              "      <td>0.734821</td>\n",
              "      <td>0.650246</td>\n",
              "      <td>0.552283</td>\n",
              "      <td>0.534832</td>\n",
              "      <td>0.517925</td>\n",
              "      <td>0.671847</td>\n",
              "      <td>0.732566</td>\n",
              "      <td>0.796880</td>\n",
              "      <td>0.791019</td>\n",
              "      <td>0.759581</td>\n",
              "      <td>0.712675</td>\n",
              "      <td>0.654974</td>\n",
              "      <td>0.525976</td>\n",
              "      <td>0.467258</td>\n",
              "      <td>0.433663</td>\n",
              "      <td>0.414070</td>\n",
              "      <td>0.419942</td>\n",
              "      <td>0.444364</td>\n",
              "      <td>0.415412</td>\n",
              "      <td>0.404864</td>\n",
              "      <td>0.391868</td>\n",
              "      <td>0.383382</td>\n",
              "      <td>0.368611</td>\n",
              "      <td>0.344514</td>\n",
              "      <td>0.390746</td>\n",
              "      <td>0.398044</td>\n",
              "      <td>0.416465</td>\n",
              "      <td>0.339951</td>\n",
              "      <td>0.295015</td>\n",
              "      <td>0.349885</td>\n",
              "      <td>0.351007</td>\n",
              "      <td>0.380615</td>\n",
              "      <td>0.409417</td>\n",
              "      <td>0.409068</td>\n",
              "      <td>0.361171</td>\n",
              "      <td>0.268731</td>\n",
              "      <td>0.291051</td>\n",
              "      <td>...</td>\n",
              "      <td>0.373156</td>\n",
              "      <td>0.320983</td>\n",
              "      <td>0.448412</td>\n",
              "      <td>0.373967</td>\n",
              "      <td>0.401331</td>\n",
              "      <td>0.393619</td>\n",
              "      <td>0.444556</td>\n",
              "      <td>0.410122</td>\n",
              "      <td>0.405405</td>\n",
              "      <td>0.395322</td>\n",
              "      <td>0.365113</td>\n",
              "      <td>0.390477</td>\n",
              "      <td>0.393238</td>\n",
              "      <td>0.402350</td>\n",
              "      <td>0.364394</td>\n",
              "      <td>0.215797</td>\n",
              "      <td>0.132177</td>\n",
              "      <td>0.058859</td>\n",
              "      <td>0.050885</td>\n",
              "      <td>0.034831</td>\n",
              "      <td>0.055532</td>\n",
              "      <td>0.051303</td>\n",
              "      <td>0.061162</td>\n",
              "      <td>0.095700</td>\n",
              "      <td>0.096604</td>\n",
              "      <td>0.060156</td>\n",
              "      <td>0.056234</td>\n",
              "      <td>0.089633</td>\n",
              "      <td>0.049470</td>\n",
              "      <td>0.100407</td>\n",
              "      <td>0.044557</td>\n",
              "      <td>0.060200</td>\n",
              "      <td>0.059252</td>\n",
              "      <td>0.045347</td>\n",
              "      <td>0.042416</td>\n",
              "      <td>0.038495</td>\n",
              "      <td>0.037504</td>\n",
              "      <td>0.037504</td>\n",
              "      <td>0.037504</td>\n",
              "      <td>White Suffolk</td>\n",
              "    </tr>\n",
              "    <tr>\n",
              "      <th>2</th>\n",
              "      <td>0.641420</td>\n",
              "      <td>0.714035</td>\n",
              "      <td>0.798457</td>\n",
              "      <td>0.816017</td>\n",
              "      <td>0.803240</td>\n",
              "      <td>0.816083</td>\n",
              "      <td>0.801344</td>\n",
              "      <td>0.743011</td>\n",
              "      <td>0.691599</td>\n",
              "      <td>0.740172</td>\n",
              "      <td>0.728582</td>\n",
              "      <td>0.819638</td>\n",
              "      <td>0.937994</td>\n",
              "      <td>0.946162</td>\n",
              "      <td>0.934094</td>\n",
              "      <td>0.876283</td>\n",
              "      <td>0.821974</td>\n",
              "      <td>0.791593</td>\n",
              "      <td>0.764850</td>\n",
              "      <td>0.735177</td>\n",
              "      <td>0.710309</td>\n",
              "      <td>0.683956</td>\n",
              "      <td>0.712483</td>\n",
              "      <td>0.715435</td>\n",
              "      <td>0.705204</td>\n",
              "      <td>0.697408</td>\n",
              "      <td>0.745241</td>\n",
              "      <td>0.769597</td>\n",
              "      <td>0.797408</td>\n",
              "      <td>0.826072</td>\n",
              "      <td>0.867314</td>\n",
              "      <td>0.871931</td>\n",
              "      <td>0.861623</td>\n",
              "      <td>0.922248</td>\n",
              "      <td>0.923317</td>\n",
              "      <td>0.936312</td>\n",
              "      <td>0.955118</td>\n",
              "      <td>0.954360</td>\n",
              "      <td>0.949872</td>\n",
              "      <td>0.948336</td>\n",
              "      <td>...</td>\n",
              "      <td>0.812868</td>\n",
              "      <td>0.848133</td>\n",
              "      <td>0.935377</td>\n",
              "      <td>0.966684</td>\n",
              "      <td>0.946128</td>\n",
              "      <td>0.947076</td>\n",
              "      <td>0.936303</td>\n",
              "      <td>0.918612</td>\n",
              "      <td>0.852849</td>\n",
              "      <td>0.828449</td>\n",
              "      <td>0.789255</td>\n",
              "      <td>0.778514</td>\n",
              "      <td>0.803982</td>\n",
              "      <td>0.759995</td>\n",
              "      <td>0.793083</td>\n",
              "      <td>0.733971</td>\n",
              "      <td>0.730267</td>\n",
              "      <td>0.684787</td>\n",
              "      <td>0.667140</td>\n",
              "      <td>0.600648</td>\n",
              "      <td>0.756781</td>\n",
              "      <td>0.661824</td>\n",
              "      <td>0.668415</td>\n",
              "      <td>0.657838</td>\n",
              "      <td>0.653524</td>\n",
              "      <td>0.649515</td>\n",
              "      <td>0.610822</td>\n",
              "      <td>0.602674</td>\n",
              "      <td>0.623273</td>\n",
              "      <td>0.432108</td>\n",
              "      <td>0.460594</td>\n",
              "      <td>0.545724</td>\n",
              "      <td>0.365441</td>\n",
              "      <td>0.452674</td>\n",
              "      <td>0.463186</td>\n",
              "      <td>0.423393</td>\n",
              "      <td>0.442913</td>\n",
              "      <td>0.501868</td>\n",
              "      <td>0.562586</td>\n",
              "      <td>White Suffolk</td>\n",
              "    </tr>\n",
              "    <tr>\n",
              "      <th>3</th>\n",
              "      <td>0.974750</td>\n",
              "      <td>0.973001</td>\n",
              "      <td>0.966229</td>\n",
              "      <td>0.961779</td>\n",
              "      <td>0.956834</td>\n",
              "      <td>0.971312</td>\n",
              "      <td>0.944290</td>\n",
              "      <td>0.973988</td>\n",
              "      <td>0.968972</td>\n",
              "      <td>0.965677</td>\n",
              "      <td>0.962104</td>\n",
              "      <td>0.958050</td>\n",
              "      <td>0.948977</td>\n",
              "      <td>0.962021</td>\n",
              "      <td>0.942737</td>\n",
              "      <td>0.915821</td>\n",
              "      <td>0.855482</td>\n",
              "      <td>0.806780</td>\n",
              "      <td>0.772257</td>\n",
              "      <td>0.781069</td>\n",
              "      <td>0.764574</td>\n",
              "      <td>0.770878</td>\n",
              "      <td>0.744375</td>\n",
              "      <td>0.774495</td>\n",
              "      <td>0.857635</td>\n",
              "      <td>0.814812</td>\n",
              "      <td>0.764076</td>\n",
              "      <td>0.715056</td>\n",
              "      <td>0.717071</td>\n",
              "      <td>0.595007</td>\n",
              "      <td>0.594371</td>\n",
              "      <td>0.526152</td>\n",
              "      <td>0.477698</td>\n",
              "      <td>0.430217</td>\n",
              "      <td>0.400415</td>\n",
              "      <td>0.351339</td>\n",
              "      <td>0.275882</td>\n",
              "      <td>0.208421</td>\n",
              "      <td>0.221328</td>\n",
              "      <td>0.219212</td>\n",
              "      <td>...</td>\n",
              "      <td>0.214462</td>\n",
              "      <td>0.220314</td>\n",
              "      <td>0.206611</td>\n",
              "      <td>0.185020</td>\n",
              "      <td>0.171316</td>\n",
              "      <td>0.177242</td>\n",
              "      <td>0.196828</td>\n",
              "      <td>0.211523</td>\n",
              "      <td>0.212493</td>\n",
              "      <td>0.202591</td>\n",
              "      <td>0.232177</td>\n",
              "      <td>0.212394</td>\n",
              "      <td>0.241719</td>\n",
              "      <td>0.234028</td>\n",
              "      <td>0.228342</td>\n",
              "      <td>0.239094</td>\n",
              "      <td>0.216490</td>\n",
              "      <td>0.207696</td>\n",
              "      <td>0.193883</td>\n",
              "      <td>0.188927</td>\n",
              "      <td>0.148720</td>\n",
              "      <td>0.166541</td>\n",
              "      <td>0.243851</td>\n",
              "      <td>0.157576</td>\n",
              "      <td>0.189896</td>\n",
              "      <td>0.257533</td>\n",
              "      <td>0.284896</td>\n",
              "      <td>0.304635</td>\n",
              "      <td>0.277249</td>\n",
              "      <td>0.214831</td>\n",
              "      <td>0.298208</td>\n",
              "      <td>0.412674</td>\n",
              "      <td>0.626073</td>\n",
              "      <td>0.673084</td>\n",
              "      <td>0.574031</td>\n",
              "      <td>0.522705</td>\n",
              "      <td>0.490731</td>\n",
              "      <td>0.483027</td>\n",
              "      <td>0.479847</td>\n",
              "      <td>White Suffolk</td>\n",
              "    </tr>\n",
              "    <tr>\n",
              "      <th>4</th>\n",
              "      <td>0.725373</td>\n",
              "      <td>0.700187</td>\n",
              "      <td>0.671680</td>\n",
              "      <td>0.644011</td>\n",
              "      <td>0.597497</td>\n",
              "      <td>0.752769</td>\n",
              "      <td>0.817856</td>\n",
              "      <td>0.778771</td>\n",
              "      <td>0.733757</td>\n",
              "      <td>0.745522</td>\n",
              "      <td>0.771142</td>\n",
              "      <td>0.765129</td>\n",
              "      <td>0.758321</td>\n",
              "      <td>0.721153</td>\n",
              "      <td>0.681099</td>\n",
              "      <td>0.704367</td>\n",
              "      <td>0.692214</td>\n",
              "      <td>0.705227</td>\n",
              "      <td>0.721175</td>\n",
              "      <td>0.742343</td>\n",
              "      <td>0.750969</td>\n",
              "      <td>0.766068</td>\n",
              "      <td>0.782702</td>\n",
              "      <td>0.763696</td>\n",
              "      <td>0.758391</td>\n",
              "      <td>0.747596</td>\n",
              "      <td>0.714153</td>\n",
              "      <td>0.698663</td>\n",
              "      <td>0.693750</td>\n",
              "      <td>0.653630</td>\n",
              "      <td>0.620297</td>\n",
              "      <td>0.617977</td>\n",
              "      <td>0.664252</td>\n",
              "      <td>0.579374</td>\n",
              "      <td>0.597328</td>\n",
              "      <td>0.524648</td>\n",
              "      <td>0.597208</td>\n",
              "      <td>0.595366</td>\n",
              "      <td>0.705518</td>\n",
              "      <td>0.651651</td>\n",
              "      <td>...</td>\n",
              "      <td>0.204606</td>\n",
              "      <td>0.256890</td>\n",
              "      <td>0.177272</td>\n",
              "      <td>0.190615</td>\n",
              "      <td>0.224166</td>\n",
              "      <td>0.231072</td>\n",
              "      <td>0.210745</td>\n",
              "      <td>0.235181</td>\n",
              "      <td>0.266294</td>\n",
              "      <td>0.268956</td>\n",
              "      <td>0.286896</td>\n",
              "      <td>0.283569</td>\n",
              "      <td>0.329198</td>\n",
              "      <td>0.286357</td>\n",
              "      <td>0.375137</td>\n",
              "      <td>0.441074</td>\n",
              "      <td>0.435120</td>\n",
              "      <td>0.421855</td>\n",
              "      <td>0.421954</td>\n",
              "      <td>0.410731</td>\n",
              "      <td>0.365206</td>\n",
              "      <td>0.381282</td>\n",
              "      <td>0.359806</td>\n",
              "      <td>0.349645</td>\n",
              "      <td>0.356497</td>\n",
              "      <td>0.353867</td>\n",
              "      <td>0.337584</td>\n",
              "      <td>0.307620</td>\n",
              "      <td>0.307538</td>\n",
              "      <td>0.284166</td>\n",
              "      <td>0.307148</td>\n",
              "      <td>0.310456</td>\n",
              "      <td>0.269258</td>\n",
              "      <td>0.276224</td>\n",
              "      <td>0.262498</td>\n",
              "      <td>0.234634</td>\n",
              "      <td>0.232046</td>\n",
              "      <td>0.236566</td>\n",
              "      <td>0.231902</td>\n",
              "      <td>White Suffolk</td>\n",
              "    </tr>\n",
              "  </tbody>\n",
              "</table>\n",
              "<p>5 rows × 7021 columns</p>\n",
              "</div>"
            ],
            "text/plain": [
              "    pixel_0   pixel_1   pixel_2  ...  pixel_7018  pixel_7019          bread\n",
              "0  0.535896  0.735112  0.596092  ...    0.164631    0.165047  White Suffolk\n",
              "1  0.570300  0.476585  0.605670  ...    0.037504    0.037504  White Suffolk\n",
              "2  0.641420  0.714035  0.798457  ...    0.501868    0.562586  White Suffolk\n",
              "3  0.974750  0.973001  0.966229  ...    0.483027    0.479847  White Suffolk\n",
              "4  0.725373  0.700187  0.671680  ...    0.236566    0.231902  White Suffolk\n",
              "\n",
              "[5 rows x 7021 columns]"
            ]
          },
          "metadata": {
            "tags": []
          },
          "execution_count": 55
        }
      ]
    },
    {
      "cell_type": "code",
      "metadata": {
        "id": "w_g_Z2LbLtTE"
      },
      "source": [
        "X = df.drop(['bread'], axis=1).values\n",
        "\n",
        "encoder = LabelEncoder()\n",
        "df['bread'] = encoder.fit_transform(df['bread'])\n",
        "Y = to_categorical(df['bread'])"
      ],
      "execution_count": null,
      "outputs": []
    },
    {
      "cell_type": "code",
      "metadata": {
        "id": "4ACxeNT7R8TK"
      },
      "source": [
        "X_train, X_test, y_train, y_test = train_test_split(X,Y, test_size=0.3, shuffle=True, stratify=Y, random_state=0)"
      ],
      "execution_count": null,
      "outputs": []
    },
    {
      "cell_type": "code",
      "metadata": {
        "id": "HlPCz5r3SCFu"
      },
      "source": [
        "X_train = X_train.reshape(len(X_train),90,78,1)\n",
        "X_test = X_test.reshape(len(X_test),90,78,1)"
      ],
      "execution_count": null,
      "outputs": []
    },
    {
      "cell_type": "code",
      "metadata": {
        "colab": {
          "base_uri": "https://localhost:8080/"
        },
        "id": "BVlyaMg1SIux",
        "outputId": "82e43849-bcb7-43ad-c184-3ec6d4d6f1a0"
      },
      "source": [
        "#create model\n",
        "model = Sequential()\n",
        "#add model layers\n",
        "model.add(Conv2D(filters=64, kernel_size=3,strides=(2,1), padding='same', activation='relu', input_shape=(90,78,1)))\n",
        "model.add(Flatten())\n",
        "model.add(Dense(64, activation='relu'))\n",
        "model.add(Dense(32, activation='relu'))\n",
        "model.add(Dense(4, activation='softmax'))\n",
        "\n",
        "# compile the model\n",
        "model.compile(optimizer='adam', loss='categorical_crossentropy', metrics=['accuracy'])\n",
        "model.summary()"
      ],
      "execution_count": null,
      "outputs": [
        {
          "output_type": "stream",
          "text": [
            "Model: \"sequential_4\"\n",
            "_________________________________________________________________\n",
            "Layer (type)                 Output Shape              Param #   \n",
            "=================================================================\n",
            "conv2d_3 (Conv2D)            (None, 45, 78, 64)        640       \n",
            "_________________________________________________________________\n",
            "flatten_4 (Flatten)          (None, 224640)            0         \n",
            "_________________________________________________________________\n",
            "dense_10 (Dense)             (None, 64)                14377024  \n",
            "_________________________________________________________________\n",
            "dense_11 (Dense)             (None, 32)                2080      \n",
            "_________________________________________________________________\n",
            "dense_12 (Dense)             (None, 4)                 132       \n",
            "=================================================================\n",
            "Total params: 14,379,876\n",
            "Trainable params: 14,379,876\n",
            "Non-trainable params: 0\n",
            "_________________________________________________________________\n"
          ],
          "name": "stdout"
        }
      ]
    },
    {
      "cell_type": "code",
      "metadata": {
        "colab": {
          "base_uri": "https://localhost:8080/"
        },
        "id": "sSrqEJ7dSTqA",
        "outputId": "c3338a74-adb9-4c4b-c3ac-dc05edba35ba"
      },
      "source": [
        "model.fit(X_train, y_train, batch_size=128, epochs=20)"
      ],
      "execution_count": null,
      "outputs": [
        {
          "output_type": "stream",
          "text": [
            "Epoch 1/20\n",
            "10/10 [==============================] - 7s 559ms/step - loss: 1.6770 - accuracy: 0.3055\n",
            "Epoch 2/20\n",
            "10/10 [==============================] - 6s 556ms/step - loss: 1.1311 - accuracy: 0.5118\n",
            "Epoch 3/20\n",
            "10/10 [==============================] - 6s 554ms/step - loss: 0.9243 - accuracy: 0.5860\n",
            "Epoch 4/20\n",
            "10/10 [==============================] - 5s 534ms/step - loss: 0.7427 - accuracy: 0.7021\n",
            "Epoch 5/20\n",
            "10/10 [==============================] - 6s 546ms/step - loss: 0.6493 - accuracy: 0.7059\n",
            "Epoch 6/20\n",
            "10/10 [==============================] - 5s 545ms/step - loss: 0.4813 - accuracy: 0.8434\n",
            "Epoch 7/20\n",
            "10/10 [==============================] - 5s 534ms/step - loss: 0.4222 - accuracy: 0.8434\n",
            "Epoch 8/20\n",
            "10/10 [==============================] - 5s 532ms/step - loss: 0.4109 - accuracy: 0.8689\n",
            "Epoch 9/20\n",
            "10/10 [==============================] - 5s 541ms/step - loss: 0.2756 - accuracy: 0.9403\n",
            "Epoch 10/20\n",
            "10/10 [==============================] - 5s 544ms/step - loss: 0.2302 - accuracy: 0.9467\n",
            "Epoch 11/20\n",
            "10/10 [==============================] - 5s 539ms/step - loss: 0.1722 - accuracy: 0.9628\n",
            "Epoch 12/20\n",
            "10/10 [==============================] - 5s 529ms/step - loss: 0.1409 - accuracy: 0.9720\n",
            "Epoch 13/20\n",
            "10/10 [==============================] - 5s 541ms/step - loss: 0.1226 - accuracy: 0.9826\n",
            "Epoch 14/20\n",
            "10/10 [==============================] - 5s 539ms/step - loss: 0.1095 - accuracy: 0.9835\n",
            "Epoch 15/20\n",
            "10/10 [==============================] - 5s 534ms/step - loss: 0.1111 - accuracy: 0.9778\n",
            "Epoch 16/20\n",
            "10/10 [==============================] - 5s 524ms/step - loss: 0.0791 - accuracy: 0.9915\n",
            "Epoch 17/20\n",
            "10/10 [==============================] - 5s 527ms/step - loss: 0.0524 - accuracy: 0.9973\n",
            "Epoch 18/20\n",
            "10/10 [==============================] - 5s 531ms/step - loss: 0.0484 - accuracy: 0.9973\n",
            "Epoch 19/20\n",
            "10/10 [==============================] - 6s 547ms/step - loss: 0.0279 - accuracy: 0.9989\n",
            "Epoch 20/20\n",
            "10/10 [==============================] - 6s 553ms/step - loss: 0.0246 - accuracy: 0.9997\n"
          ],
          "name": "stdout"
        },
        {
          "output_type": "execute_result",
          "data": {
            "text/plain": [
              "<tensorflow.python.keras.callbacks.History at 0x7fdac1c3d748>"
            ]
          },
          "metadata": {
            "tags": []
          },
          "execution_count": 60
        }
      ]
    },
    {
      "cell_type": "code",
      "metadata": {
        "colab": {
          "base_uri": "https://localhost:8080/"
        },
        "id": "eO_0T48VTKwn",
        "outputId": "c7c8b1d1-6e25-44b4-8804-af78009c064a"
      },
      "source": [
        "y_train_pred = model.predict_classes(X_train)\n",
        "y_test_pred = model.predict_classes(X_test)"
      ],
      "execution_count": null,
      "outputs": [
        {
          "output_type": "stream",
          "text": [
            "/usr/local/lib/python3.6/dist-packages/tensorflow/python/keras/engine/sequential.py:450: UserWarning: `model.predict_classes()` is deprecated and will be removed after 2021-01-01. Please use instead:* `np.argmax(model.predict(x), axis=-1)`,   if your model does multi-class classification   (e.g. if it uses a `softmax` last-layer activation).* `(model.predict(x) > 0.5).astype(\"int32\")`,   if your model does binary classification   (e.g. if it uses a `sigmoid` last-layer activation).\n",
            "  warnings.warn('`model.predict_classes()` is deprecated and '\n"
          ],
          "name": "stderr"
        }
      ]
    },
    {
      "cell_type": "code",
      "metadata": {
        "id": "oOGuBzQ5TPWa"
      },
      "source": [
        "def normalize_value(predictions):\n",
        "    normalized = []\n",
        "    for prediction in predictions:\n",
        "        result = 0\n",
        "        for i in range(0,len(prediction)):\n",
        "            result += i * prediction[i]\n",
        "        normalized.append(int(result))\n",
        "    return normalized\n",
        "\n",
        "normalized_y_train = normalize_value(y_train)\n",
        "normalized_y_test = normalize_value(y_test)"
      ],
      "execution_count": null,
      "outputs": []
    },
    {
      "cell_type": "code",
      "metadata": {
        "id": "YEpv9hecTRbg"
      },
      "source": [
        "train_conf_matrix = np.zeros(16).reshape(4,4)\n",
        "\n",
        "for index in range(0,len(normalized_y_train)):\n",
        "    train_value = normalized_y_train[index]\n",
        "    predicted_train_value = y_train_pred[index]\n",
        "    train_conf_matrix[train_value][predicted_train_value] += 1\n",
        "    \n",
        "test_conf_matrix = np.zeros(16).reshape(4,4)\n",
        "\n",
        "for index in range(0,len(normalized_y_test)):\n",
        "    test_value = normalized_y_test[index]\n",
        "    predicted_test_value = y_test_pred[index]\n",
        "    test_conf_matrix[test_value][predicted_test_value] += 1"
      ],
      "execution_count": null,
      "outputs": []
    },
    {
      "cell_type": "code",
      "metadata": {
        "colab": {
          "base_uri": "https://localhost:8080/",
          "height": 166
        },
        "id": "yfXpaNQKTVyw",
        "outputId": "67f505a8-5fe4-4d9a-b28b-8a275d651d40"
      },
      "source": [
        "train_conf_matrix_df = pd.DataFrame(train_conf_matrix)\n",
        "train_conf_matrix_df.columns = ['Marino', 'Poll Dorset', 'Suffolk' , 'White Suffolk']\n",
        "train_conf_matrix_df.index = ['Marino', 'Poll Dorset', 'Suffolk' , 'White Suffolk']\n",
        "train_conf_matrix_df"
      ],
      "execution_count": null,
      "outputs": [
        {
          "output_type": "execute_result",
          "data": {
            "text/html": [
              "<div>\n",
              "<style scoped>\n",
              "    .dataframe tbody tr th:only-of-type {\n",
              "        vertical-align: middle;\n",
              "    }\n",
              "\n",
              "    .dataframe tbody tr th {\n",
              "        vertical-align: top;\n",
              "    }\n",
              "\n",
              "    .dataframe thead th {\n",
              "        text-align: right;\n",
              "    }\n",
              "</style>\n",
              "<table border=\"1\" class=\"dataframe\">\n",
              "  <thead>\n",
              "    <tr style=\"text-align: right;\">\n",
              "      <th></th>\n",
              "      <th>Marino</th>\n",
              "      <th>Poll Dorset</th>\n",
              "      <th>Suffolk</th>\n",
              "      <th>White Suffolk</th>\n",
              "    </tr>\n",
              "  </thead>\n",
              "  <tbody>\n",
              "    <tr>\n",
              "      <th>Marino</th>\n",
              "      <td>294.0</td>\n",
              "      <td>0.0</td>\n",
              "      <td>0.0</td>\n",
              "      <td>0.0</td>\n",
              "    </tr>\n",
              "    <tr>\n",
              "      <th>Poll Dorset</th>\n",
              "      <td>0.0</td>\n",
              "      <td>294.0</td>\n",
              "      <td>0.0</td>\n",
              "      <td>0.0</td>\n",
              "    </tr>\n",
              "    <tr>\n",
              "      <th>Suffolk</th>\n",
              "      <td>0.0</td>\n",
              "      <td>0.0</td>\n",
              "      <td>294.0</td>\n",
              "      <td>0.0</td>\n",
              "    </tr>\n",
              "    <tr>\n",
              "      <th>White Suffolk</th>\n",
              "      <td>0.0</td>\n",
              "      <td>0.0</td>\n",
              "      <td>0.0</td>\n",
              "      <td>294.0</td>\n",
              "    </tr>\n",
              "  </tbody>\n",
              "</table>\n",
              "</div>"
            ],
            "text/plain": [
              "               Marino  Poll Dorset  Suffolk  White Suffolk\n",
              "Marino          294.0          0.0      0.0            0.0\n",
              "Poll Dorset       0.0        294.0      0.0            0.0\n",
              "Suffolk           0.0          0.0    294.0            0.0\n",
              "White Suffolk     0.0          0.0      0.0          294.0"
            ]
          },
          "metadata": {
            "tags": []
          },
          "execution_count": 64
        }
      ]
    },
    {
      "cell_type": "code",
      "metadata": {
        "colab": {
          "base_uri": "https://localhost:8080/",
          "height": 166
        },
        "id": "gqGO-SbdTmXk",
        "outputId": "b20a74bd-6f71-4c44-bdd8-b74371a2b213"
      },
      "source": [
        "test_conf_matrix_df = pd.DataFrame(test_conf_matrix)\n",
        "test_conf_matrix_df.columns = ['Marino', 'Poll Dorset', 'Suffolk' , 'White Suffolk']\n",
        "test_conf_matrix_df.index = ['Marino', 'Poll Dorset', 'Suffolk' , 'White Suffolk']\n",
        "test_conf_matrix_df"
      ],
      "execution_count": null,
      "outputs": [
        {
          "output_type": "execute_result",
          "data": {
            "text/html": [
              "<div>\n",
              "<style scoped>\n",
              "    .dataframe tbody tr th:only-of-type {\n",
              "        vertical-align: middle;\n",
              "    }\n",
              "\n",
              "    .dataframe tbody tr th {\n",
              "        vertical-align: top;\n",
              "    }\n",
              "\n",
              "    .dataframe thead th {\n",
              "        text-align: right;\n",
              "    }\n",
              "</style>\n",
              "<table border=\"1\" class=\"dataframe\">\n",
              "  <thead>\n",
              "    <tr style=\"text-align: right;\">\n",
              "      <th></th>\n",
              "      <th>Marino</th>\n",
              "      <th>Poll Dorset</th>\n",
              "      <th>Suffolk</th>\n",
              "      <th>White Suffolk</th>\n",
              "    </tr>\n",
              "  </thead>\n",
              "  <tbody>\n",
              "    <tr>\n",
              "      <th>Marino</th>\n",
              "      <td>97.0</td>\n",
              "      <td>18.0</td>\n",
              "      <td>0.0</td>\n",
              "      <td>11.0</td>\n",
              "    </tr>\n",
              "    <tr>\n",
              "      <th>Poll Dorset</th>\n",
              "      <td>7.0</td>\n",
              "      <td>116.0</td>\n",
              "      <td>2.0</td>\n",
              "      <td>1.0</td>\n",
              "    </tr>\n",
              "    <tr>\n",
              "      <th>Suffolk</th>\n",
              "      <td>3.0</td>\n",
              "      <td>0.0</td>\n",
              "      <td>123.0</td>\n",
              "      <td>0.0</td>\n",
              "    </tr>\n",
              "    <tr>\n",
              "      <th>White Suffolk</th>\n",
              "      <td>12.0</td>\n",
              "      <td>11.0</td>\n",
              "      <td>0.0</td>\n",
              "      <td>103.0</td>\n",
              "    </tr>\n",
              "  </tbody>\n",
              "</table>\n",
              "</div>"
            ],
            "text/plain": [
              "               Marino  Poll Dorset  Suffolk  White Suffolk\n",
              "Marino           97.0         18.0      0.0           11.0\n",
              "Poll Dorset       7.0        116.0      2.0            1.0\n",
              "Suffolk           3.0          0.0    123.0            0.0\n",
              "White Suffolk    12.0         11.0      0.0          103.0"
            ]
          },
          "metadata": {
            "tags": []
          },
          "execution_count": 65
        }
      ]
    },
    {
      "cell_type": "code",
      "metadata": {
        "colab": {
          "base_uri": "https://localhost:8080/"
        },
        "id": "WHuc50p6UEPV",
        "outputId": "a62fb258-6675-4987-cf83-87331b1c3478"
      },
      "source": [
        "print(\"Accuracy Train : 99.97\")\n",
        "print('Accuracy test : %.3f' %(accuracy_score(normalized_y_test,y_test_pred)) )"
      ],
      "execution_count": null,
      "outputs": [
        {
          "output_type": "stream",
          "text": [
            "Accuracy Train : 99.97\n",
            "Accuracy test : 0.871\n"
          ],
          "name": "stdout"
        }
      ]
    }
  ]
}